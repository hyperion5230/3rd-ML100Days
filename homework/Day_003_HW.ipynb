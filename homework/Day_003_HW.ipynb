{
 "cells": [
  {
   "cell_type": "markdown",
   "metadata": {},
   "source": [
    "## [作業目標]\n",
    "持續接觸有關機器學習的相關專案與最新技術"
   ]
  },
  {
   "cell_type": "markdown",
   "metadata": {},
   "source": [
    "## [作業重點]\n",
    "透過觀察頂尖公司的機器學習文章，來了解各公司是怎麼應用機器學習在實際的專案上"
   ]
  },
  {
   "cell_type": "markdown",
   "metadata": {},
   "source": [
    "## [作業]\n",
    "今天的作業希望大家能夠看看全球機器學習巨頭們在做的機器學習專案。以 google 為例，下圖是 Google 內部專案使用機器學習的數量，隨著時間進展，現在早已超過 2000 個專案在使用機器學習。"
   ]
  },
  {
   "cell_type": "markdown",
   "metadata": {},
   "source": [
    "![image](https://cdn-images-1.medium.com/max/800/1*U_L8qI8RmYS-MOBrYvXhSA.png)"
   ]
  },
  {
   "cell_type": "markdown",
   "metadata": {},
   "source": [
    "底下幫同學整理幾間知名企業的 blog 或機器學習網站 (自行搜尋也可)，這些網站都會整理最新的機器學習專案或者是技術文章，請挑選一篇文章閱讀並試著回答\n",
    "1. 專案的目標？ (要解決什麼問題）\n",
    "\n",
    "使用機器學習預測總線延遲\n",
    "\n",
    "全世界有數億人依靠公共交通工具進行日常通勤，世界上一半以上的公共交通都涉及公共汽車。隨著世界城市的不斷發展，通勤者希望知道何時會出現延誤，尤其是乘坐公共汽車，因為這些公交車很容易被交通堵塞。雖然谷歌地圖提供的公共交通指示由許多提供實時數據的運輸機構提供信息，但由於技術和資源限制，許多機構無法提供這些指導。\n",
    "2. 使用的技術是？ (只需知道名稱即可，例如：使用 CNN 卷積神經網路做影像分類)\n",
    "\n",
    "Google map引入公車的實時交通延誤，預測城市公車延誤，由機器學習模型驅動，該模型將實時預測汽車交通與公車線路和站點數據相結合，以更好地預測公車行程需要多長時間。\n",
    "3. 資料來源？ \n",
    "\n",
    "James Cook，Alex Fabrikant，Ivan Kuznetsov和Fangzhou Xu在Google Research上努力，以及Anthony Bertuca，Julian Gibbons，ThierryLeBoulenge，Cayden Meyer，Anatoli Plotnikov和Ivan Volosyuk在谷歌地圖上努力。我們感謝Senaka Buthpitiya，Da-Cheng Juan，Reuben Kan，Ramesh Nagarajan，Andrew Tomkins和更大的Transit團隊提供的支持和有益的討論;以及Will Cassella對模型時間嵌入的啟發性重新構想。合作夥伴代理商提供系統培訓的運輸數據源。\n"
   ]
  },
  {
   "cell_type": "markdown",
   "metadata": {},
   "source": [
    "- [Google AI blog](https://ai.googleblog.com/)\n",
    "- [Facebook Research blog](https://research.fb.com/blog/)\n",
    "- [Apple machine learning journal](https://machinelearning.apple.com/)\n",
    "- [機器之心](https://www.jiqizhixin.com/)\n",
    "- [雷鋒網](http://www.leiphone.com/category/ai)"
   ]
  },
  {
   "cell_type": "code",
   "execution_count": null,
   "metadata": {},
   "outputs": [],
   "source": []
  }
 ],
 "metadata": {
  "kernelspec": {
   "display_name": "Python 3",
   "language": "python",
   "name": "python3"
  },
  "language_info": {
   "codemirror_mode": {
    "name": "ipython",
    "version": 3
   },
   "file_extension": ".py",
   "mimetype": "text/x-python",
   "name": "python",
   "nbconvert_exporter": "python",
   "pygments_lexer": "ipython3",
   "version": "3.7.2"
  }
 },
 "nbformat": 4,
 "nbformat_minor": 2
}
